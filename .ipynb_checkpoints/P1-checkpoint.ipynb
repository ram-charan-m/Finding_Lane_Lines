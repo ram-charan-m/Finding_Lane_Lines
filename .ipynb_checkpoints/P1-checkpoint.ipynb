{
 "cells": [
  {
   "cell_type": "markdown",
   "metadata": {},
   "source": [
    "# Self-Driving Car Engineer Nanodegree\n",
    "\n",
    "\n",
    "## Project: **Finding Lane Lines on the Road** \n",
    "***\n",
    "In this project, you will use the tools you learned about in the lesson to identify lane lines on the road.  You can develop your pipeline on a series of individual images, and later apply the result to a video stream (really just a series of images). Check out the video clip \"raw-lines-example.mp4\" (also contained in this repository) to see what the output should look like after using the helper functions below. \n",
    "\n",
    "Once you have a result that looks roughly like \"raw-lines-example.mp4\", you'll need to get creative and try to average and/or extrapolate the line segments you've detected to map out the full extent of the lane lines.  You can see an example of the result you're going for in the video \"P1_example.mp4\".  Ultimately, you would like to draw just one line for the left side of the lane, and one for the right.\n",
    "\n",
    "In addition to implementing code, there is a brief writeup to complete. The writeup should be completed in a separate file, which can be either a markdown file or a pdf document. There is a [write up template](https://github.com/udacity/CarND-LaneLines-P1/blob/master/writeup_template.md) that can be used to guide the writing process. Completing both the code in the Ipython notebook and the writeup template will cover all of the [rubric points](https://review.udacity.com/#!/rubrics/322/view) for this project.\n",
    "\n",
    "---\n",
    "Let's have a look at our first image called 'test_images/solidWhiteRight.jpg'.  Run the 2 cells below (hit Shift-Enter or the \"play\" button above) to display the image.\n",
    "\n",
    "**Note: If, at any point, you encounter frozen display windows or other confounding issues, you can always start again with a clean slate by going to the \"Kernel\" menu above and selecting \"Restart & Clear Output\".**\n",
    "\n",
    "---"
   ]
  },
  {
   "cell_type": "markdown",
   "metadata": {},
   "source": [
    "**The tools you have are color selection, region of interest selection, grayscaling, Gaussian smoothing, Canny Edge Detection and Hough Tranform line detection.  You  are also free to explore and try other techniques that were not presented in the lesson.  Your goal is piece together a pipeline to detect the line segments in the image, then average/extrapolate them and draw them onto the image for display (as below).  Once you have a working pipeline, try it out on the video stream below.**\n",
    "\n",
    "---\n",
    "\n",
    "<figure>\n",
    " <img src=\"examples/line-segments-example.jpg\" width=\"380\" alt=\"Combined Image\" />\n",
    " <figcaption>\n",
    " <p></p> \n",
    " <p style=\"text-align: center;\"> Your output should look something like this (above) after detecting line segments using the helper functions below </p> \n",
    " </figcaption>\n",
    "</figure>\n",
    " <p></p> \n",
    "<figure>\n",
    " <img src=\"examples/laneLines_thirdPass.jpg\" width=\"380\" alt=\"Combined Image\" />\n",
    " <figcaption>\n",
    " <p></p> \n",
    " <p style=\"text-align: center;\"> Your goal is to connect/average/extrapolate line segments to get output like this</p> \n",
    " </figcaption>\n",
    "</figure>"
   ]
  },
  {
   "cell_type": "markdown",
   "metadata": {},
   "source": [
    "**Run the cell below to import some packages.  If you get an `import error` for a package you've already installed, try changing your kernel (select the Kernel menu above --> Change Kernel).  Still have problems?  Try relaunching Jupyter Notebook from the terminal prompt.  Also, consult the forums for more troubleshooting tips.**  "
   ]
  },
  {
   "cell_type": "markdown",
   "metadata": {},
   "source": [
    "## Import Packages"
   ]
  },
  {
   "cell_type": "code",
   "execution_count": 25,
   "metadata": {},
   "outputs": [],
   "source": [
    "#importing some useful packages\n",
    "import matplotlib.pyplot as plt\n",
    "import os\n",
    "import matplotlib.image as mpimg\n",
    "import numpy as np\n",
    "import cv2\n",
    "import math\n",
    "%matplotlib inline"
   ]
  },
  {
   "cell_type": "markdown",
   "metadata": {},
   "source": [
    "## Read in an Image"
   ]
  },
  {
   "cell_type": "code",
   "execution_count": 26,
   "metadata": {},
   "outputs": [
    {
     "name": "stdout",
     "output_type": "stream",
     "text": [
      "This image is: <class 'numpy.ndarray'> with dimensions: (540, 960, 3)\n"
     ]
    }
   ],
   "source": [
    "#reading in an image\n",
    "image = mpimg.imread('test_images/solidWhiteRight.jpg')\n",
    "\n",
    "#printing out some stats and plotting\n",
    "print('This image is:', type(image), 'with dimensions:', image.shape)\n",
    "# plt.imshow(image)  # if you wanted to show a single color channel image called 'gray', for example, call as plt.imshow(gray, cmap='gray')"
   ]
  },
  {
   "cell_type": "markdown",
   "metadata": {},
   "source": [
    "## Ideas for Lane Detection Pipeline"
   ]
  },
  {
   "cell_type": "markdown",
   "metadata": {},
   "source": [
    "**Some OpenCV functions (beyond those introduced in the lesson) that might be useful for this project are:**\n",
    "\n",
    "`cv2.inRange()` for color selection  \n",
    "`cv2.fillPoly()` for regions selection  \n",
    "`cv2.line()` to draw lines on an image given endpoints  \n",
    "`cv2.addWeighted()` to coadd / overlay two images\n",
    "`cv2.cvtColor()` to grayscale or change color\n",
    "`cv2.imwrite()` to output images to file  \n",
    "`cv2.bitwise_and()` to apply a mask to an image\n",
    "\n",
    "**Check out the OpenCV documentation to learn about these and discover even more awesome functionality!**"
   ]
  },
  {
   "cell_type": "markdown",
   "metadata": {},
   "source": [
    "## Helper Functions"
   ]
  },
  {
   "cell_type": "markdown",
   "metadata": {},
   "source": [
    "Below are some helper functions to help get you started. They should look familiar from the lesson!"
   ]
  },
  {
   "cell_type": "code",
   "execution_count": 27,
   "metadata": {},
   "outputs": [],
   "source": [
    "import math\n",
    "\n",
    "def grayscale(img):\n",
    "    \"\"\"Applies the Grayscale transform\n",
    "    This will return an image with only one color channel\n",
    "    but NOTE: to see the returned image as grayscale\n",
    "    (assuming your grayscaled image is called 'gray')\n",
    "    you should call plt.imshow(gray, cmap='gray')\"\"\"\n",
    "    return cv2.cvtColor(img, cv2.COLOR_RGB2GRAY)\n",
    "    # Or use BGR2GRAY if you read an image with cv2.imread()\n",
    "    # return cv2.cvtColor(img, cv2.COLOR_BGR2GRAY)\n",
    "    \n",
    "def canny(img, low_threshold, high_threshold):\n",
    "    \"\"\"Applies the Canny transform\"\"\"\n",
    "    return cv2.Canny(img, low_threshold, high_threshold)\n",
    "\n",
    "def gaussian_blur(img, kernel_size):\n",
    "    \"\"\"Applies a Gaussian Noise kernel\"\"\"\n",
    "    return cv2.GaussianBlur(img, (kernel_size, kernel_size), 0)\n",
    "\n",
    "def region_of_interest(img, vertices): #Only the region of interest has pixels; other points are zeros\n",
    "    \"\"\"\n",
    "    Applies an image mask.\n",
    "    \n",
    "    Only keeps the region of the image defined by the polygon\n",
    "    formed from `vertices`. The rest of the image is set to black.\n",
    "    `vertices` should be a numpy array of integer points.\n",
    "    \"\"\"\n",
    "    #defining a blank mask to start with - whole image is zeros\n",
    "    mask = np.zeros_like(img)   \n",
    "    \n",
    "    #defining a 3 channel or 1 channel color to fill the mask with depending on the input image - simply fills the color channel\n",
    "    # image is in; if its a full channel, then the original image, gray, then just gray, etc\n",
    "    if len(img.shape) > 2:\n",
    "        channel_count = img.shape[2]  # i.e. 3 or 4 depending on your image\n",
    "        ignore_mask_color = (255,) * channel_count\n",
    "    else:\n",
    "        ignore_mask_color = 255\n",
    "        \n",
    "    #filling pixels inside the polygon defined by \"vertices\" with the fill color    \n",
    "    cv2.fillPoly(mask, vertices, ignore_mask_color) # - vertices order is important to form the desired polygon shape\n",
    "    # creates the channel in expressed polygon with others as zero\n",
    "    \n",
    "    # need an automated method to detect vertices of interest\n",
    "    \n",
    "    #returning the image only where mask pixels are nonzero\n",
    "    masked_image = cv2.bitwise_and(img, mask) #gives masked img as bitwise func adds img elements in nonzero,i.e., in polygon \n",
    "    return masked_image\n",
    "\n",
    "\n",
    "def draw_lines(img, lines, color=[255, 0, 0], thickness=2): # This is the final step function\n",
    "    \"\"\"\n",
    "    NOTE: this is the function you might want to use as a starting point once you want to \n",
    "    average/extrapolate the line segments you detect to map out the full\n",
    "    extent of the lane (going from the result shown in raw-lines-example.mp4\n",
    "    to that shown in P1_example.mp4); from dashed lines to continuous lines\n",
    "    \n",
    "    Think about things like separating line segments by their \n",
    "    slope ((y2-y1)/(x2-x1)) to decide which segments are part of the left\n",
    "    line vs. the right line.  Then, you can average the position of each of \n",
    "    the lines and extrapolate to the top and bottom of the lane.\n",
    "    \n",
    "    This function draws `lines` with `color` and `thickness`.    \n",
    "    Lines are drawn on the image inplace (mutates the image).\n",
    "    If you want to make the lines semi-transparent, think about combining\n",
    "    this function with the weighted_img() function below\n",
    "    \"\"\"\n",
    "    for line in lines:\n",
    "        for x1,y1,x2,y2 in line:\n",
    "            cv2.line(img, (x1, y1), (x2, y2), color, thickness)\n",
    "\n",
    "def hough_lines(img, rho, theta, threshold, min_line_len, max_line_gap):\n",
    "    \"\"\"\n",
    "    `img` should be the output of a Canny transform.\n",
    "        \n",
    "    Returns an image with hough lines drawn.\n",
    "    \"\"\"\n",
    "    lines = cv2.HoughLinesP(img, rho, theta, threshold, np.array([]), minLineLength=min_line_len, maxLineGap=max_line_gap)\n",
    "    line_img = np.zeros((img.shape[0], img.shape[1], 3), dtype=np.uint8)\n",
    "    draw_lines(line_img, lines)\n",
    "    return line_img\n",
    "\n",
    "# Python 3 has support for cool math symbols.\n",
    "\n",
    "def weighted_img(img, initial_img, α=0.8, β=1., γ=0.):\n",
    "    \"\"\"\n",
    "    `img` is the output of the hough_lines(), An image with lines drawn on it.\n",
    "    Should be a blank image (all black) with lines drawn on it.\n",
    "    \n",
    "    `initial_img` should be the image before any processing.\n",
    "    \n",
    "    The result image is computed as follows:\n",
    "    \n",
    "    initial_img * α + img * β + γ\n",
    "    NOTE: initial_img and img must be the same shape!\n",
    "    \"\"\"\n",
    "    return cv2.addWeighted(initial_img, α, img, β, γ)"
   ]
  },
  {
   "cell_type": "markdown",
   "metadata": {},
   "source": [
    "## Test Images\n",
    "\n",
    "Build your pipeline to work on the images in the directory \"test_images\"  \n",
    "**You should make sure your pipeline works well on these images before you try the videos.**"
   ]
  },
  {
   "cell_type": "markdown",
   "metadata": {},
   "source": [
    "## Build a Lane Finding Pipeline\n",
    "\n"
   ]
  },
  {
   "cell_type": "markdown",
   "metadata": {},
   "source": [
    "Build the pipeline and run your solution on all test_images. Make copies into the `test_images_output` directory, and you can use the images in your writeup report.\n",
    "\n",
    "Try tuning the various parameters, especially the low and high Canny thresholds as well as the Hough lines parameters."
   ]
  },
  {
   "cell_type": "code",
   "execution_count": 30,
   "metadata": {},
   "outputs": [],
   "source": [
    "# TODO: Build your pipeline that will draw lane lines on the test_images\n",
    "# then save them to the test_images_output directory.\n",
    "\n",
    "# Step0: Selecting the image from the 'test_images' list and converting into grayscale for future need\n",
    "\n",
    "def test_process(img):\n",
    "    # Step1: Noise Filter\n",
    "    blur_img = gaussian_blur(img, 5)\n",
    "    # plt.imshow(blur_img)\n",
    "\n",
    "    # Step2: Grayscale\n",
    "    gray = grayscale(blur_img)\n",
    "    # plt.imshow(gray)\n",
    "\n",
    "    # Step3: Canny\n",
    "    canny_img = canny(gray, 100, 255)\n",
    "    # plt.imshow(canny_img)\n",
    "\n",
    "    # # Step4: Apply the mask by defining vertices; img is 540x960\n",
    "\n",
    "    # v1 = [0,img.shape[0]]\n",
    "    # v2 = [img.shape[1],img.shape[0]]\n",
    "    # v3 = [(img.shape[1]//2),(img.shape[0]//2)+30]\n",
    "    # # v3 = [580,350]\n",
    "    # # v4 = [380,350]\n",
    "    # vertices=np.array([(v1,v2,v3)])\n",
    "    v1 = [0,img.shape[0]]\n",
    "    v2 = [img.shape[1],img.shape[0]]\n",
    "    #     v3 = [(img.shape[1]//2),(img.shape[0]//2)+30]\n",
    "    v3 = [(img.shape[1]//2)+100,(img.shape[0]//2)+80]\n",
    "    v4 = [(img.shape[1]//2)-100,(img.shape[0]//2)+80]\n",
    "    vertices=np.array([(v1,v2,v3,v4)])\n",
    "    masked_img = region_of_interest(canny_img, vertices)\n",
    "    # plt.imshow(masked_img)\n",
    "\n",
    "    # Step5: Hough\n",
    "    # hough_img = hough_lines(masked_img, 1,np.pi/180 , 10, 5, 20)\n",
    "    # plt.imshow(hough_img)\n",
    "\n",
    "    lines = cv2.HoughLinesP(masked_img, 1, np.pi/180, 100, np.array([]), 5, 20)\n",
    "    img_lane_lines = np.copy(img)\n",
    "    for line in lines:\n",
    "        for x1,y1,x2,y2 in line:\n",
    "            cv2.line(img_lane_lines, (x1, y1), (x2, y2),color=[255, 0, 0], thickness=2) # Original Hough lines image\n",
    "\n",
    "    # plt.imshow(img_lane_lines)\n",
    "\n",
    "    # Step6: Interpolation\n",
    "    img_lane_lines = np.copy(img)\n",
    "    for line in lines:\n",
    "        for x1,y1,x2,y2 in line:\n",
    "            cv2.line(img_lane_lines, (x1, y1), (x2, y2),color=[255, 0, 0], thickness=2)\n",
    "\n",
    "    rtl = np.zeros_like(lines)\n",
    "    ltl = np.zeros_like(lines)\n",
    "    l=0\n",
    "    r=0\n",
    "\n",
    "    for line in lines:\n",
    "        x1 = line[0][0]\n",
    "        y1 = line[0][1]\n",
    "        x2 = line[0][2]\n",
    "        y2 = line[0][3]\n",
    "        #for x1,y1,x2,y2 in line:\n",
    "\n",
    "        if (y2-y1)/(x2-x1) > 0:\n",
    "            ltl[l][0] = [x1,y1,x2,y2]\n",
    "            l=l+1\n",
    "        elif (y2-y1)/(x2-x1) <= 0:\n",
    "            rtl[r][0] = [x1,y1,x2,y2]\n",
    "            r=r+1\n",
    "\n",
    "    left_lines = ltl[~np.all(ltl == 0, axis=2)]\n",
    "    right_lines = rtl[~np.all(rtl == 0, axis=2)]\n",
    "\n",
    "    lslope = []\n",
    "    rslope = []\n",
    "\n",
    "    for line in left_lines:\n",
    "        lslope.append((line[3]-line[1])/(line[2]-line[0]))\n",
    "\n",
    "    for line in right_lines:\n",
    "        rslope.append((line[3]-line[1])/(line[2]-line[0]))\n",
    "\n",
    "    rslope_np = np.array(rslope)\n",
    "    lslope_np = np.array(lslope)\n",
    "\n",
    "    rslope_median = np.median(rslope_np)\n",
    "    lslope_median = np.median(lslope_np)\n",
    "\n",
    "    rslope_mean = np.mean(rslope_np[(rslope_np>=rslope_median-0.05)&(rslope_np<=rslope_median+0.05)])\n",
    "    lslope_mean = np.mean(lslope_np[(lslope_np>=lslope_median-0.05)&(lslope_np<=lslope_median+0.05)])\n",
    "\n",
    "    lintr = []\n",
    "    rintr = []\n",
    "    for line in left_lines:\n",
    "        lintr.append(line[1] - (lslope_mean * line[0]))\n",
    "    for line in right_lines:\n",
    "        rintr.append(line[1] - (rslope_mean * line[0]))\n",
    "\n",
    "    lintr_np = np.array(lintr)\n",
    "    rintr_np = np.array(rintr)\n",
    "\n",
    "    lintr_median = np.median(lintr_np)\n",
    "    rintr_median = np.median(rintr_np)\n",
    "\n",
    "    lintr_mean = np.mean(lintr_np[(lintr_np>=lintr_median-10)&(lintr_np<=lintr_median+10)])\n",
    "    rintr_mean = np.mean(rintr_np[(rintr_np>=rintr_median-10)&(rintr_np<=rintr_median+10)])\n",
    "    if math.isnan(lslope_mean) == True:\n",
    "        lslope_mean = 0.59\n",
    "    if math.isnan(lintr_mean) == True:\n",
    "        lintr_mean = 36\n",
    "    \n",
    "    print(lintr_mean)\n",
    "\n",
    "    left_pts = np.array([((img.shape[0]-lintr_mean)/lslope_mean),img.shape[0],((((img.shape[0]//2)+80)-lintr_mean)/lslope_mean),(img.shape[0]//2)+80]).astype(int)\n",
    "    right_pts = np.array([((img.shape[0]-rintr_mean)/rslope_mean),img.shape[0],((((img.shape[0]//2)+80)-rintr_mean)/rslope_mean),(img.shape[0]//2)+80]).astype(int)\n",
    "\n",
    "    img_lane_lines_extra = np.copy(img)\n",
    "    cv2.line(img_lane_lines_extra, (left_pts[0],left_pts[1] ), (left_pts[2], left_pts[3]),color=[200, 0, 0], thickness=10)\n",
    "    cv2.line(img_lane_lines_extra, (right_pts[0],right_pts[1] ), (right_pts[2], right_pts[3]),color=[200, 0, 0], thickness=10)\n",
    "\n",
    "    # plt.imshow(img_lane_lines_extra)\n",
    "    # def weighted_img(img, initial_img, α=0.8, β=1., γ=0.):\n",
    "    #     `img` is the output of the hough_lines(), An image with lines drawn on it.Should be a blank image \n",
    "    # (all black) with lines drawn on it. `initial_img` should be the image before any processing.    \n",
    "    #     The result image is computed as follows:  initial_img * α + img * β + γ\n",
    "    #     return cv2.addWeighted(initial_img, α, img, β, γ)\n",
    "\n",
    "    black_img = np.zeros_like(img)\n",
    "    cv2.line(black_img, (left_pts[0],left_pts[1] ), (left_pts[2], left_pts[3]),color=[255, 0,0], thickness=15)\n",
    "    cv2.line(black_img, (right_pts[0],right_pts[1] ), (right_pts[2], right_pts[3]),color=[0, 255,0], thickness=15)\n",
    "    # plt.imshow(black_img)\n",
    "    final =  weighted_img(black_img, img, α=0.8, β=0.6, γ=0) #img, initial\n",
    "    return final\n",
    "# frame_2 = cv2.imread('Video Frame Images/frame2.jpg')   \n",
    "# final = test_process(frame_4)\n",
    "\n",
    "# plt.imshow(final)"
   ]
  },
  {
   "cell_type": "markdown",
   "metadata": {},
   "source": [
    "## Test on Videos\n",
    "\n",
    "You know what's cooler than drawing lanes over images? Drawing lanes over video!\n",
    "\n",
    "We can test our solution on two provided videos:\n",
    "\n",
    "`solidWhiteRight.mp4`\n",
    "\n",
    "`solidYellowLeft.mp4`\n",
    "\n",
    "**Note: if you get an import error when you run the next cell, try changing your kernel (select the Kernel menu above --> Change Kernel). Still have problems? Try relaunching Jupyter Notebook from the terminal prompt. Also, consult the forums for more troubleshooting tips.**\n",
    "\n",
    "**If you get an error that looks like this:**\n",
    "```\n",
    "NeedDownloadError: Need ffmpeg exe. \n",
    "You can download it by calling: \n",
    "imageio.plugins.ffmpeg.download()\n",
    "```\n",
    "**Follow the instructions in the error message and check out [this forum post](https://discussions.udacity.com/t/project-error-of-test-on-videos/274082) for more troubleshooting tips across operating systems.**"
   ]
  },
  {
   "cell_type": "code",
   "execution_count": 31,
   "metadata": {},
   "outputs": [],
   "source": [
    "# Import everything needed to edit/save/watch video clips\n",
    "from moviepy.editor import VideoFileClip\n",
    "from IPython.display import HTML"
   ]
  },
  {
   "cell_type": "code",
   "execution_count": 32,
   "metadata": {},
   "outputs": [],
   "source": [
    "def process_image(image):\n",
    "    # NOTE: The output you return should be a color image (3 channel) for processing video below\n",
    "    # TODO: put your pipeline here,\n",
    "    # you should return the final output (image where lines are drawn on lanes)\n",
    "    # TODO: Build your pipeline that will draw lane lines on the test_images\n",
    "# then save them to the test_images_output directory.   \n",
    "    img = image\n",
    "\n",
    "    # Step1: Noise Filter\n",
    "    blur_img = gaussian_blur(image, 5)\n",
    "    # plt.imshow(blur_img)\n",
    "\n",
    "    # Step2: Grayscale\n",
    "    gray = grayscale(blur_img)\n",
    "    # plt.imshow(gray)\n",
    "\n",
    "    # Step3: Canny\n",
    "    canny_img = canny(gray, 150, 255)\n",
    "    # plt.imshow(canny_img)\n",
    "\n",
    "    # Step4: Apply the mask by defining vertices; img is 540x960\n",
    "\n",
    "    v1 = [0,img.shape[0]]\n",
    "    v2 = [img.shape[1],img.shape[0]]\n",
    "#     v3 = [(img.shape[1]//2),(img.shape[0]//2)+30]\n",
    "    v3 = [(img.shape[1]//2)+100,(img.shape[0]//2)+80]\n",
    "    v4 = [(img.shape[1]//2)-100,(img.shape[0]//2)+80]\n",
    "    vertices=np.array([(v1,v2,v3,v4)])\n",
    "    masked_img = region_of_interest(canny_img, vertices)\n",
    "    \n",
    "    # Step 5: Hough Transform\n",
    "    lines = cv2.HoughLinesP(masked_img, 1, np.pi/180, 100, np.array([]), 20, 10)\n",
    "    \n",
    "    img_lane_lines = np.copy(img)\n",
    "    for line in lines:\n",
    "        for x1,y1,x2,y2 in line:\n",
    "            cv2.line(img_lane_lines, (x1, y1), (x2, y2),color=[255, 0, 0], thickness=2) # Original Hough lines image\n",
    "    \n",
    "    \n",
    "    #Step6: Extrapolating Houghlines\n",
    "    rtl = np.zeros_like(lines)\n",
    "    ltl = np.zeros_like(lines)\n",
    "    l=0\n",
    "    r=0\n",
    "    \n",
    "    for line in lines:\n",
    "        x1 = line[0][0]\n",
    "        y1 = line[0][1]\n",
    "        x2 = line[0][2]\n",
    "        y2 = line[0][3]\n",
    "        #for x1,y1,x2,y2 in line:\n",
    "\n",
    "        if (y2-y1)/(x2-x1) > 0:\n",
    "            ltl[l][0] = [x1,y1,x2,y2]\n",
    "            l=l+1\n",
    "        elif (y2-y1)/(x2-x1) <= 0:\n",
    "            rtl[r][0] = [x1,y1,x2,y2]\n",
    "            r=r+1\n",
    "\n",
    "    left_lines = ltl[~np.all(ltl == 0, axis=2)]\n",
    "    right_lines = rtl[~np.all(rtl == 0, axis=2)]\n",
    "\n",
    "    lslope = []\n",
    "    rslope = []\n",
    "\n",
    "    for line in left_lines:\n",
    "        lslope.append((line[3]-line[1])/(line[2]-line[0]))\n",
    "\n",
    "    for line in right_lines:\n",
    "        rslope.append((line[3]-line[1])/(line[2]-line[0]))\n",
    "\n",
    "    rslope_np = np.array(rslope)\n",
    "    lslope_np = np.array(lslope)\n",
    "\n",
    "    rslope_median = np.median(rslope_np)\n",
    "    lslope_median = np.median(lslope_np)\n",
    "\n",
    "    rslope_mean = np.mean(rslope_np[(rslope_np>=rslope_median-0.05) & (rslope_np<=rslope_median+0.05)])\n",
    "    if(math.isnan(rslope_mean) == True):\n",
    "            rslope_mean = -0.70\n",
    "                \n",
    "    lslope_mean = np.mean(lslope_np[(lslope_np>=lslope_median-0.05) & (lslope_np<=lslope_median+0.05)])\n",
    "    if(math.isnan(lslope_mean) == True):\n",
    "            lslope_mean = 0.59\n",
    "      \n",
    "   \n",
    "    lintr = []\n",
    "    rintr = []\n",
    "    for line in left_lines:\n",
    "        lintr.append(line[1] - (lslope_mean * line[0]))\n",
    "    for line in right_lines:\n",
    "        rintr.append(line[1] - (rslope_mean * line[0]))\n",
    "\n",
    "    lintr_np = np.array(lintr)\n",
    "    rintr_np = np.array(rintr)\n",
    "\n",
    "    lintr_median = np.median(lintr_np)\n",
    "    rintr_median = np.median(rintr_np)\n",
    "\n",
    "    lintr_mean = np.mean(lintr_np[(lintr_np>=lintr_median-10)&(lintr_np<=lintr_median+10)])\n",
    "    if(math.isnan(lintr_mean) == True):\n",
    "        lintr_mean = 36\n",
    "    \n",
    "    rintr_mean = np.mean(rintr_np[(rintr_np>=rintr_median-10)&(rintr_np<=rintr_median+10)])\n",
    "    if(math.isnan(rintr_mean) == True):\n",
    "        rintr_mean = 646.262993371\n",
    "\n",
    "\n",
    "    left_pts = np.array([((img.shape[0]-lintr_mean)/lslope_mean),(img.shape[0]),((((img.shape[0]//2)+80)-lintr_mean)/lslope_mean),((img.shape[0]//2)+80)]).astype(int)\n",
    "    right_pts = np.array([((img.shape[0]-rintr_mean)/rslope_mean),(img.shape[0]),((((img.shape[0]//2)+80)-rintr_mean)/rslope_mean),((img.shape[0]//2)+80)]).astype(int)\n",
    "\n",
    "    black_img = np.zeros_like(img)\n",
    "    cv2.line(black_img, (left_pts[0],left_pts[1] ), (left_pts[2], left_pts[3]),color=[255, 0,0], thickness=15)\n",
    "    cv2.line(black_img, (right_pts[0],right_pts[1] ), (right_pts[2], right_pts[3]),color=[0, 255,0], thickness=15)\n",
    "    result =  weighted_img(black_img, img, α=0.8, β=0.6, γ=0) #img, initial\n",
    "\n",
    "    return result"
   ]
  },
  {
   "cell_type": "markdown",
   "metadata": {},
   "source": [
    "Let's try the one with the solid white lane on the right first ..."
   ]
  },
  {
   "cell_type": "code",
   "execution_count": 2,
   "metadata": {},
   "outputs": [],
   "source": [
    "white_output = 'test_videos_output/solidWhiteRight_FINAL.mp4'\n",
    "## To speed up the testing process you may want to try your pipeline on a shorter subclip of the video\n",
    "## To do so add .subclip(start_second,end_second) to the end of the line below\n",
    "## Where start_second and end_second are integer values representing the start and end of the subclip\n",
    "## You may also uncomment the following line for a subclip of the first 5 seconds\n",
    "##clip1 = VideoFileClip(\"test_videos/solidWhiteRight.mp4\").subclip(0,5)\n",
    "clip1 = VideoFileClip(\"test_videos/solidWhiteRight.mp4\")\n",
    "white_clip = clip1.fl_image(process_image) #NOTE: this function expects color images!!\n",
    "%time white_clip.write_videofile(white_output, audio=False)"
   ]
  },
  {
   "cell_type": "markdown",
   "metadata": {},
   "source": [
    "Play the video inline, or if you prefer find the video in your filesystem (should be in the same directory) and play it in your video player of choice."
   ]
  },
  {
   "cell_type": "code",
   "execution_count": 34,
   "metadata": {},
   "outputs": [
    {
     "data": {
      "text/html": [
       "\n",
       "<video width=\"960\" height=\"540\" controls>\n",
       "  <source src=\"test_videos_output/solidWhiteRight_FINAL.mp4\">\n",
       "</video>\n"
      ],
      "text/plain": [
       "<IPython.core.display.HTML object>"
      ]
     },
     "execution_count": 34,
     "metadata": {},
     "output_type": "execute_result"
    }
   ],
   "source": [
    "HTML(\"\"\"\n",
    "<video width=\"960\" height=\"540\" controls>\n",
    "  <source src=\"{0}\">\n",
    "</video>\n",
    "\"\"\".format(white_output))"
   ]
  },
  {
   "cell_type": "markdown",
   "metadata": {},
   "source": [
    "## Improve the draw_lines() function\n",
    "\n",
    "**At this point, if you were successful with making the pipeline and tuning parameters, you probably have the Hough line segments drawn onto the road, but what about identifying the full extent of the lane and marking it clearly as in the example video (P1_example.mp4)?  Think about defining a line to run the full length of the visible lane based on the line segments you identified with the Hough Transform. As mentioned previously, try to average and/or extrapolate the line segments you've detected to map out the full extent of the lane lines. You can see an example of the result you're going for in the video \"P1_example.mp4\".**\n",
    "\n",
    "**Go back and modify your draw_lines function accordingly and try re-running your pipeline. The new output should draw a single, solid line over the left lane line and a single, solid line over the right lane line. The lines should start from the bottom of the image and extend out to the top of the region of interest.**"
   ]
  },
  {
   "cell_type": "markdown",
   "metadata": {},
   "source": [
    "Now for the one with the solid yellow lane on the left. This one's more tricky!"
   ]
  },
  {
   "cell_type": "code",
   "execution_count": 35,
   "metadata": {},
   "outputs": [
    {
     "name": "stdout",
     "output_type": "stream",
     "text": [
      "[MoviePy] >>>> Building video test_videos_output/solidYellowLeft_FINAL.mp4\n",
      "[MoviePy] Writing video test_videos_output/solidYellowLeft_FINAL.mp4\n"
     ]
    },
    {
     "name": "stderr",
     "output_type": "stream",
     "text": [
      "100%|█████████▉| 681/682 [00:44<00:00, 15.23it/s]\n"
     ]
    },
    {
     "name": "stdout",
     "output_type": "stream",
     "text": [
      "[MoviePy] Done.\n",
      "[MoviePy] >>>> Video ready: test_videos_output/solidYellowLeft_FINAL.mp4 \n",
      "\n",
      "CPU times: user 9.12 s, sys: 698 ms, total: 9.82 s\n",
      "Wall time: 46 s\n"
     ]
    }
   ],
   "source": [
    "yellow_output = 'test_videos_output/solidYellowLeft_FINAL.mp4'\n",
    "## To speed up the testing process you may want to try your pipeline on a shorter subclip of the video\n",
    "## To do so add .subclip(start_second,end_second) to the end of the line below\n",
    "## Where start_second and end_second are integer values representing the start and end of the subclip\n",
    "## You may also uncomment the following line for a subclip of the first 5 seconds\n",
    "##clip2 = VideoFileClip('test_videos/solidYellowLeft.mp4').subclip(0,5)\n",
    "clip2 = VideoFileClip('test_videos/solidYellowLeft.mp4')\n",
    "yellow_clip = clip2.fl_image(process_image)\n",
    "%time yellow_clip.write_videofile(yellow_output, audio=False)"
   ]
  },
  {
   "cell_type": "code",
   "execution_count": 36,
   "metadata": {
    "scrolled": true
   },
   "outputs": [
    {
     "data": {
      "text/html": [
       "\n",
       "<video width=\"960\" height=\"540\" controls>\n",
       "  <source src=\"test_videos_output/solidYellowLeft_FINAL.mp4\">\n",
       "</video>\n"
      ],
      "text/plain": [
       "<IPython.core.display.HTML object>"
      ]
     },
     "execution_count": 36,
     "metadata": {},
     "output_type": "execute_result"
    }
   ],
   "source": [
    "HTML(\"\"\"\n",
    "<video width=\"960\" height=\"540\" controls>\n",
    "  <source src=\"{0}\">\n",
    "</video>\n",
    "\"\"\".format(yellow_output))"
   ]
  },
  {
   "cell_type": "markdown",
   "metadata": {},
   "source": [
    "## Writeup and Submission\n",
    "\n",
    "If you're satisfied with your video outputs, it's time to make the report writeup in a pdf or markdown file. Once you have this Ipython notebook ready along with the writeup, it's time to submit for review! Here is a [link](https://github.com/udacity/CarND-LaneLines-P1/blob/master/writeup_template.md) to the writeup template file.\n"
   ]
  },
  {
   "cell_type": "markdown",
   "metadata": {
    "collapsed": true
   },
   "source": [
    "## Optional Challenge\n",
    "\n",
    "Try your lane finding pipeline on the video below.  Does it still work?  Can you figure out a way to make it more robust?  If you're up for the challenge, modify your pipeline so it works with this video and submit it along with the rest of your project!"
   ]
  },
  {
   "cell_type": "code",
   "execution_count": null,
   "metadata": {},
   "outputs": [],
   "source": [
    "challenge_output = 'test_videos_output/challenge.mp4'\n",
    "## To speed up the testing process you may want to try your pipeline on a shorter subclip of the video\n",
    "## To do so add .subclip(start_second,end_second) to the end of the line below\n",
    "## Where start_second and end_second are integer values representing the start and end of the subclip\n",
    "## You may also uncomment the following line for a subclip of the first 5 seconds\n",
    "##clip3 = VideoFileClip('test_videos/challenge.mp4').subclip(0,5)\n",
    "clip3 = VideoFileClip('test_videos/challenge.mp4')\n",
    "challenge_clip = clip3.fl_image(process_image)\n",
    "%time challenge_clip.write_videofile(challenge_output, audio=False)"
   ]
  },
  {
   "cell_type": "code",
   "execution_count": null,
   "metadata": {},
   "outputs": [],
   "source": [
    "HTML(\"\"\"\n",
    "<video width=\"960\" height=\"540\" controls>\n",
    "  <source src=\"{0}\">\n",
    "</video>\n",
    "\"\"\".format(challenge_output))"
   ]
  },
  {
   "cell_type": "markdown",
   "metadata": {},
   "source": [
    "## Reading test images, generating video frames as images for testing the pipeline\n"
   ]
  },
  {
   "cell_type": "code",
   "execution_count": 1,
   "metadata": {},
   "outputs": [],
   "source": [
    "\n",
    "\n",
    "# # Creating Frame Images from Project Video \n",
    "# # Read the video from specified path \n",
    "# cam = cv2.VideoCapture(\"test_videos/solidYellowLeft.mp4\") \n",
    "  \n",
    "# try:       \n",
    "#     # creating a folder named data \n",
    "#     if not os.path.exists('Video Frame Images'): \n",
    "#         os.makedirs('Video Frame Images') \n",
    "  \n",
    "# # if not created then raise error \n",
    "# except OSError: \n",
    "#     print ('Error: Creating directory of data') \n",
    "  \n",
    "# # frame \n",
    "# currentframe = 0\n",
    "  \n",
    "# while(True): \n",
    "      \n",
    "#     # reading from frame \n",
    "#     ret,frame = cam.read() \n",
    "  \n",
    "#     if ret: \n",
    "#         # if video is still left continue creating images \n",
    "#         name = './Video Frame Images/frame' + str(currentframe) + '.jpg'\n",
    "#         print ('Creating...' + name) \n",
    "  \n",
    "#         # writing the extracted images \n",
    "#         cv2.imwrite(name, frame) \n",
    "  \n",
    "#         # increasing counter so that it will \n",
    "#         # show how many frames are created \n",
    "#         currentframe += 1\n",
    "#     else: \n",
    "#         break\n",
    "\n",
    "# frame_265 = cv2.imread('Video Frame Images/frame265.jpg')\n",
    "# frame_266 = cv2.imread('Video Frame Images/frame266.jpg')\n",
    "# frame_267 = cv2.imread('Video Frame Images/frame267.jpg')\n",
    "# frame_268 = cv2.imread('Video Frame Images/frame268.jpg')\n",
    "# frame_269 = cv2.imread('Video Frame Images/frame269.jpg')\n",
    "# frame_270 = cv2.imread('Video Frame Images/frame270.jpg')\n",
    "# frame_271 = cv2.imread('Video Frame Images/frame271.jpg')\n",
    "# frame_272 = cv2.imread('Video Frame Images/frame272.jpg')\n",
    "# frame_273 = cv2.imread('Video Frame Images/frame273.jpg')\n",
    "# frame_274 = cv2.imread('Video Frame Images/frame274.jpg')\n",
    "# frame_275 = cv2.imread('Video Frame Images/frame275.jpg')\n",
    "# frame_276 = cv2.imread('Video Frame Images/frame276.jpg')\n",
    "# frame_277 = cv2.imread('Video Frame Images/frame277.jpg')\n",
    "# frame_278 = cv2.imread('Video Frame Images/frame278.jpg')\n",
    "# frame_279 = cv2.imread('Video Frame Images/frame279.jpg')\n",
    "# frame_280 = cv2.imread('Video Frame Images/frame280.jpg')\n",
    "# frame_281 = cv2.imread('Video Frame Images/frame281.jpg')\n",
    "# frame_282 = cv2.imread('Video Frame Images/frame282.jpg')\n",
    "# frame_283 = cv2.imread('Video Frame Images/frame283.jpg')\n",
    "# frame_284 = cv2.imread('Video Frame Images/frame284.jpg')\n",
    "# frame_285 = cv2.imread('Video Frame Images/frame285.jpg')\n",
    "# frame_286 = cv2.imread('Video Frame Images/frame286.jpg')\n",
    "# frame_287 = cv2.imread('Video Frame Images/frame287.jpg')\n",
    "# frame_288 = cv2.imread('Video Frame Images/frame288.jpg')\n",
    "# frame_289 = cv2.imread('Video Frame Images/frame289.jpg')\n",
    "# frame_290 = cv2.imread('Video Frame Images/frame290.jpg')\n",
    "# frame_291 = cv2.imread('Video Frame Images/frame291.jpg')\n",
    "\n",
    "# img_list = os.listdir(\"test_images/\")\n",
    "\n",
    "# img1 = mpimg.imread('test_images/solidYellowCurve2.jpg')\n",
    "# img2 = mpimg.imread('test_images/solidWhiteCurve.jpg')\n",
    "# img3 = mpimg.imread('test_images/solidWhiteRight.jpg')\n",
    "# img4 = mpimg.imread('test_images/solidYellowLeft.jpg')\n",
    "# img5 = mpimg.imread('test_images/solidYellowCurve.jpg')\n",
    "# img6 = mpimg.imread('test_images/whiteCarLaneSwitch.jpg')\n",
    "\n",
    "# img_arr = np.array\n",
    "# img_arr = (img1, img2, img3, img4, img5, img6)\n",
    "\n",
    "# # Note: all images have lane of interest within a certain frame grid of the image, a triangle of sides x axis \n",
    "# # and apex roughly at (500,250)\n",
    "# img = img_arr[0]\n",
    "# mask = np.zeros_like(image) \n",
    "# ignore_mask_color = (255,255,255)\n",
    "# vertices = np.array([[10,540],[960,540],[480,270]])\n",
    "# maskee = cv2.fillPoly(mask, vertices, ignore_mask_color)\n",
    "\n",
    "# plt.imshow(img1)\n",
    "\n",
    "# v1 = [0,img.shape[0]]\n",
    "# v2 = [img.shape[1],img.shape[0]]\n",
    "# # v3 = [(img.shape[1]//2),(img.shape[0]//2)+30]\n",
    "# v3 = [580,350]\n",
    "# v4 = [380,350]\n",
    "# vertices=np.array([(v1,v2,v3,v4)])\n",
    "# masked_img = region_of_interest(img, vertices)\n",
    "# plt.imshow(masked_img)\n",
    "\n",
    "# img = frame_286\n",
    "# img = cv2.cvtColor(img,cv2.COLOR_RGB2BGR)\n",
    "# gray = cv2.cvtColor(img,cv2.COLOR_BGR2GRAY)\n",
    "\n",
    "# plt.imshow(gray, cmap=\"gray\")"
   ]
  }
 ],
 "metadata": {
  "anaconda-cloud": {},
  "kernelspec": {
   "display_name": "Python 3",
   "language": "python",
   "name": "python3"
  },
  "language_info": {
   "codemirror_mode": {
    "name": "ipython",
    "version": 3
   },
   "file_extension": ".py",
   "mimetype": "text/x-python",
   "name": "python",
   "nbconvert_exporter": "python",
   "pygments_lexer": "ipython3",
   "version": "3.6.3"
  }
 },
 "nbformat": 4,
 "nbformat_minor": 1
}
